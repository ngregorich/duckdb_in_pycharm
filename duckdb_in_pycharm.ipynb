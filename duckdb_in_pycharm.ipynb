{
 "cells": [
  {
   "cell_type": "code",
   "execution_count": 24,
   "id": "initial_id",
   "metadata": {
    "collapsed": true,
    "ExecuteTime": {
     "end_time": "2024-07-05T18:07:02.188461Z",
     "start_time": "2024-07-05T18:07:02.186367Z"
    }
   },
   "outputs": [],
   "source": [
    "import duckdb"
   ]
  },
  {
   "cell_type": "code",
   "outputs": [],
   "source": [
    "# raw .csv filename\n",
    "csv_filename = \"Tesla-2024-03-10 13-34-28-2024-03-10 14-25-11.csv\"\n",
    "# duckdb filename (to create)\n",
    "db_filename = \"file.db\"\n",
    "# name of view (to create)\n",
    "data_view_name = \"data_v\""
   ],
   "metadata": {
    "collapsed": false,
    "ExecuteTime": {
     "end_time": "2024-07-05T18:07:02.192852Z",
     "start_time": "2024-07-05T18:07:02.190980Z"
    }
   },
   "id": "e565286aee7f9311",
   "execution_count": 25
  },
  {
   "cell_type": "code",
   "outputs": [],
   "source": [
    "# query to create a view that aliases each column name in the .csv to\n",
    "# something more SQL query friendly\n",
    "create_data_view_query = f\"\"\"create or replace view {data_view_name} as\n",
    "                 select \"Timestamp (PDT)\" as ts,\n",
    "                 \"State\" as state,\n",
    "                 \"Charging State\" as charging_state,\n",
    "                 \"Shift State\" as shift_state,\n",
    "                 \"Battery Level (%)\" as battery_level_pct,\n",
    "                 \"Usable Battery Level (%)\" as usable_battery_level_pct,\n",
    "                 \"Battery Range (mi)\" as battery_range_mi,\n",
    "                 \"Est. Battery Range (mi)\" as estimated_battery_range_mi,\n",
    "                 \"Ideal Battery Range (mi)\" as ideal_battery_range_mi,\n",
    "                 \"Latitude\" as latitude,\n",
    "                 \"Longitude\" as longitude,\n",
    "                 \"Elevation (m)\" as elevation_m,\n",
    "                 \"Speed (mph)\" as speed_mph,\n",
    "                 \"Power (kW)\" as power_kw,\n",
    "                 \"Odometer (mi)\" as odometer_mi,\n",
    "                 \"Charge Rate (mph)\" as charge_rate_mph,\n",
    "                 \"Current (A)\" as current_a,\n",
    "                 \"Charger Power (kW)\" as charger_power_kw,\n",
    "                 \"Charger Voltage (V)\" as charger_voltage_v,\n",
    "                 \"Charger Phases\" as charger_phases,\n",
    "                 \"Energy Added (kWh)\" as energy_added_kwh,\n",
    "                 \"Rated Range Added (mi)\" as rated_range_added_mi,\n",
    "                 \"Ideal Range Added (mi)\" as ideal_range_added_mi,\n",
    "                 \"Climate\" as climate,\n",
    "                 \"Battery Heater\" as battery_heater,\n",
    "                 \"Inside Temp (°F)\" as inside_temperature_f,\n",
    "                 \"Outside Temp (°F)\" as outside_temperature_f,\n",
    "                 \"Locked\" as locked,\n",
    "                 \"Sentry Mode\" as sentry_mode\n",
    "                 from '{csv_filename}'\"\"\""
   ],
   "metadata": {
    "collapsed": false,
    "ExecuteTime": {
     "end_time": "2024-07-05T18:07:02.202833Z",
     "start_time": "2024-07-05T18:07:02.200319Z"
    }
   },
   "id": "37b7dba7320377f0",
   "execution_count": 26
  },
  {
   "cell_type": "code",
   "outputs": [],
   "source": [
    "def check_view_exists(duck_conn: duckdb.DuckDBPyConnection, check_view_name: str) -> bool:\n",
    "    \"\"\"Return True if check_view_name exists in duck_conn or False if not\"\"\"\n",
    "    try:\n",
    "        # use DuckDB Python API, not SQL query\n",
    "        duck_conn.view(check_view_name)\n",
    "    except Exception as local_e:\n",
    "        if f\"Table with name {check_view_name} does not exist\" in str(local_e):\n",
    "            return False\n",
    "    return True"
   ],
   "metadata": {
    "collapsed": false,
    "ExecuteTime": {
     "end_time": "2024-07-05T18:07:02.215265Z",
     "start_time": "2024-07-05T18:07:02.212657Z"
    }
   },
   "id": "add74d9ff7c58e1f",
   "execution_count": 27
  },
  {
   "cell_type": "code",
   "outputs": [],
   "source": [
    "def create_view(duck_conn: duckdb.DuckDBPyConnection, duck_filename: str, new_view_query: str) -> duckdb.DuckDBPyConnection:\n",
    "    \"\"\"Open database connection to duck_filename in read / write mode,\n",
    "    run the new_view_query SQL query,\n",
    "    re-open the database connection in read only mode,\n",
    "    and return the read only DuckDB connection\"\"\"\n",
    "\n",
    "    duck_conn.close()\n",
    "\n",
    "    duck_conn = duckdb.connect(duck_filename, read_only=False)\n",
    "    duck_conn.query(new_view_query)\n",
    "    duck_conn.close()\n",
    "\n",
    "    duck_conn = duckdb.connect(duck_filename, read_only=True)\n",
    "\n",
    "    return duck_conn"
   ],
   "metadata": {
    "collapsed": false,
    "ExecuteTime": {
     "end_time": "2024-07-05T18:07:02.218952Z",
     "start_time": "2024-07-05T18:07:02.216657Z"
    }
   },
   "id": "7e04bbc3374c30ee",
   "execution_count": 28
  },
  {
   "cell_type": "code",
   "outputs": [],
   "source": [
    "# connect to db in read mode\n",
    "# if db does not exist, create it in write mode and reconnect in read mode\n",
    "\n",
    "# close connection if it exists\n",
    "if \"conn\" in globals():\n",
    "    # noinspection PyUnresolvedReferences\n",
    "    conn.close()\n",
    "try:\n",
    "    conn = duckdb.connect(db_filename, read_only=True)\n",
    "\n",
    "except Exception as e:\n",
    "    if \"database does not exist\" in str(e):\n",
    "        conn = duckdb.connect(db_filename, read_only=False)\n",
    "        conn.close()\n",
    "        conn = duckdb.connect(db_filename, read_only=True)\n",
    "    else:\n",
    "        raise e"
   ],
   "metadata": {
    "collapsed": false,
    "ExecuteTime": {
     "end_time": "2024-07-05T18:07:02.225182Z",
     "start_time": "2024-07-05T18:07:02.219668Z"
    }
   },
   "id": "f1223abe833754fe",
   "execution_count": 29
  },
  {
   "cell_type": "code",
   "outputs": [],
   "source": [
    "# see if our view already exists in the db, if view does not exist, create it\n",
    "\n",
    "view_exists = check_view_exists(conn, data_view_name)\n",
    "\n",
    "if not view_exists:\n",
    "    conn = create_view(conn, db_filename, create_data_view_query)"
   ],
   "metadata": {
    "collapsed": false,
    "ExecuteTime": {
     "end_time": "2024-07-05T18:07:02.230645Z",
     "start_time": "2024-07-05T18:07:02.226639Z"
    }
   },
   "id": "4ce527ebb1030ab7",
   "execution_count": 30
  },
  {
   "cell_type": "code",
   "outputs": [],
   "source": [
    "# confirm that view exists, if not assert because something went wrong\n",
    "view_exists = check_view_exists(conn, data_view_name)\n",
    "\n",
    "assert view_exists, \"Error: view not created\""
   ],
   "metadata": {
    "collapsed": false,
    "ExecuteTime": {
     "end_time": "2024-07-05T18:07:02.235247Z",
     "start_time": "2024-07-05T18:07:02.231567Z"
    }
   },
   "id": "35f13e04ead4b7ae",
   "execution_count": 31
  },
  {
   "cell_type": "markdown",
   "source": [
    "Now we need to configure this DuckDB database as a Data Source in PyCharm. Here's the [PyCharm documentation](https://www.jetbrains.com/help/pycharm/databases.html) for the Database tool and here's a step by step for doing configuring it to target DuckDB:\n",
    "\n",
    "1. Click the *Database* icon on the right\n",
    "2. Click the *+* icon in the Database menu\n",
    "3. Click *Data Source*\n",
    "4. Scroll to the bottom and select *Other*\n",
    "5. Select *DuckDB*\n",
    "\n",
    "![Setup steps 1 - 5](img/setup_1.png)"
   ],
   "metadata": {
    "collapsed": false
   },
   "id": "2253a1cd72b573eb"
  },
  {
   "cell_type": "markdown",
   "source": [
    "6. Set *File* to the value of the `db_filename` variable in Python (`file.db` in our case)\n",
    "7. Set *Authentication* to *No auth*\n",
    "8. Click *Test Connection*\n",
    "    1. You may be prompted to install database drivers for DuckDB\n",
    "9. Click on the *Schemas* tab\n",
    "\n",
    "![Setup steps 6 - 9](img/setup_2.png)"
   ],
   "metadata": {
    "collapsed": false
   },
   "id": "d9ab96af1db392a7"
  },
  {
   "cell_type": "markdown",
   "source": [
    "10. Open the `file` expander\n",
    "11. Check the box for `main` under `file`\n",
    "12. Click the *Advanced* tab\n",
    "\n",
    "![Setup steps 10 - 12](img/setup_3.png)"
   ],
   "metadata": {
    "collapsed": false
   },
   "id": "7055e9556fabe0"
  },
  {
   "cell_type": "markdown",
   "source": [
    "13. Add a setting with *Name* `duckdb.read_only`\n",
    "14. Set the *Value* to `true`\n",
    "15. Click *OK*\n",
    "\n",
    "![Setup steps 13 - 15](img/setup_4.png)"
   ],
   "metadata": {
    "collapsed": false
   },
   "id": "66e880c83577ce05"
  },
  {
   "cell_type": "markdown",
   "source": [
    "16. We can now see introspection of the .csv file in the Database window!\n",
    "17. The *Deactivate* button disconnects PyCharm from the database \n",
    "    1. **Note:** Any time you connect to `db_filename` in read / write mode in Python, you will need to click *Deactivate*\n",
    "    2. Similarly, to disconnect from the database in Python, use the method: `conn.close()`\n",
    "18. The *Refresh* button connects PyCharm to the database\n",
    "\n",
    "![Setup steps 16 - 18](img/setup_5.png)"
   ],
   "metadata": {
    "collapsed": false
   },
   "id": "51f44ef9ab109f3c"
  },
  {
   "cell_type": "markdown",
   "source": [
    "Concurrency in DuckDB can be either:\n",
    "\n",
    "1. Multiple *read only* connections to a database\n",
    "2. A **single** *read / write* connection to a database\n",
    "    1. A *read only* connection cannot be made when there is an active *read / write* connection\n",
    "\n",
    "We can now use PyCharm's syntax highlighting and autocompletion features when we query DuckDB. Here's a template to start with:\n",
    "\n",
    "```python\n",
    "conn = duckdb.connect(db_filename, read_only=True)\n",
    "conn.query(f\"\"\"\n",
    "select \n",
    "from data_v -- data_v cannot be replaced with a Python variable\n",
    "\"\"\").df()\n",
    "```\n",
    "\n",
    "Here's what it looks like in action where I've just typed `l` and let the autocomplete engine show me what columns I can choose from. Awesome!\n",
    "\n",
    "![autocomplete example](img/autocomplete.png)"
   ],
   "metadata": {
    "collapsed": false
   },
   "id": "646c33b9608c1403"
  },
  {
   "cell_type": "code",
   "outputs": [
    {
     "name": "stdout",
     "output_type": "stream",
     "text": [
      "    round_elevation_m  avg_outside_temperature_f\n",
      "0              2300.0                  37.000000\n",
      "1              2100.0                  37.000000\n",
      "2              2000.0                  37.333333\n",
      "3              1700.0                  40.000000\n",
      "4              1600.0                  40.000000\n",
      "5              1500.0                  41.818182\n",
      "6              1400.0                  43.000000\n",
      "7              1300.0                  45.375000\n",
      "8              1200.0                  47.333333\n",
      "9              1100.0                  48.666667\n",
      "10             1000.0                  51.000000\n",
      "11              900.0                  51.000000\n",
      "12              800.0                  51.000000\n",
      "13              700.0                  51.444444\n",
      "14              600.0                  53.500000\n",
      "15              500.0                  54.800000\n",
      "16              400.0                  55.000000\n"
     ]
    }
   ],
   "source": [
    "# here's a demo query for the sake of completeness\n",
    "# first we open a read only connection to the database\n",
    "# we select the elevation rounded to the nearest 100 m\n",
    "# we aggregate the outside temperature in °F by each 100 m elevation bin\n",
    "# we order the results by rounded elevation, descending to be a little more intuitive with the downhill drive\n",
    "# and finally we close the connection to the database\n",
    "\n",
    "conn = duckdb.connect(db_filename, read_only=True)\n",
    "\n",
    "print(conn.query(f\"\"\"\n",
    "select round(elevation_m / 100.0) * 100 as round_elevation_m,\n",
    "avg(outside_temperature_f) as avg_outside_temperature_f\n",
    "from data_v\n",
    "group by round_elevation_m\n",
    "order by round_elevation_m desc\n",
    "\"\"\").df())\n",
    "\n",
    "conn.close()"
   ],
   "metadata": {
    "collapsed": false,
    "ExecuteTime": {
     "end_time": "2024-07-05T18:07:02.245010Z",
     "start_time": "2024-07-05T18:07:02.236085Z"
    }
   },
   "id": "353821435dc23d1e",
   "execution_count": 32
  },
  {
   "cell_type": "code",
   "outputs": [],
   "source": [],
   "metadata": {
    "collapsed": false,
    "ExecuteTime": {
     "end_time": "2024-07-05T18:07:02.247267Z",
     "start_time": "2024-07-05T18:07:02.245884Z"
    }
   },
   "id": "3cde63893bc46302",
   "execution_count": 32
  }
 ],
 "metadata": {
  "kernelspec": {
   "display_name": "Python 3",
   "language": "python",
   "name": "python3"
  },
  "language_info": {
   "codemirror_mode": {
    "name": "ipython",
    "version": 2
   },
   "file_extension": ".py",
   "mimetype": "text/x-python",
   "name": "python",
   "nbconvert_exporter": "python",
   "pygments_lexer": "ipython2",
   "version": "2.7.6"
  }
 },
 "nbformat": 4,
 "nbformat_minor": 5
}
